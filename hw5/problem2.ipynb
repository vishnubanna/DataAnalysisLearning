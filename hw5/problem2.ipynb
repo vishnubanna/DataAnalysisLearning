{
 "cells": [
  {
   "cell_type": "code",
   "execution_count": 1,
   "metadata": {},
   "outputs": [],
   "source": [
    "import numpy as np \n",
    "import matplotlib.pyplot as plt\n",
    "import scipy.stats as stats\n",
    "from scipy.stats import norm\n",
    "from scipy.stats import t\n",
    "import math"
   ]
  },
  {
   "cell_type": "code",
   "execution_count": 2,
   "metadata": {},
   "outputs": [],
   "source": [
    "data = [3, -3, 3, 12, 15, -16, 17, 19, 23, -24, 32]\n",
    "n = len(data)\n",
    "vector = np.array(data)"
   ]
  },
  {
   "cell_type": "markdown",
   "metadata": {},
   "source": [
    "# Q1 & Q2 ::\n",
    "- look at the output of the block bellow for the answers \n",
    "- look for the tag ```Problem # ::``` in the Output not the Code For the answers"
   ]
  },
  {
   "cell_type": "code",
   "execution_count": 3,
   "metadata": {},
   "outputs": [
    {
     "name": "stdout",
     "output_type": "stream",
     "text": [
      "Problem 1 :: Z-test or T-test?\n",
      "\tIt is better to use a t-test for 2 main reasons.\n",
      "\n",
      "\t1)We don't know the Standard Deviation or Population Mean.\n",
      "\t2)We have 11 data points, and 11 < 30. This means we have a very small sample size\n",
      "\n",
      "Sample Information\n",
      "\tSample Size: 11\n",
      "\tSample Mean: 7.363636363636363\n",
      "\n",
      "Problem 1 :: interval: 0.95\n",
      "The Number of points Corresponding to an Interval of 0.95:\n",
      "\t(-3.9470151490654715, 18.674287876338198)\n",
      "\n",
      "Problem 2 :: interval: 0.9\n",
      "The Number of points Corresponding to an Interval of 0.9:\n",
      "\t(-1.8369195722533416, 16.56419229952607)\n",
      "\n",
      "Comparison: -> difference btween The confidence intervals\n",
      "\t(-2.11009557681213, 2.110095576812128)\n",
      "\n",
      "Analysis:\n",
      "\tUsing the Comparison value it is clear that as the confidence interval changinf from 0.95 to 0.9 has\n",
      "\tdecreased the size of the interval by 2.110 on both sides. This means that both intervals are \n",
      "\tvery similar becuase the interval decreased by less than 4 point over all.\n"
     ]
    }
   ],
   "source": [
    "sample_size = vector.size\n",
    "sample_mean = np.mean(vector)\n",
    "\n",
    "df = n - 1\n",
    "prob = t.cdf(vector, df)\n",
    "\n",
    "interval = 0.95\n",
    "retvec = stats.sem(vector) * t.ppf((1 + interval)/2, df)\n",
    "conft1 = ((sample_mean - retvec), (sample_mean + retvec))\n",
    "\n",
    "print(f\"Problem 1 :: Z-test or T-test?\")\n",
    "print(f\"\\tIt is better to use a t-test for 2 main reasons.\\n\"\n",
    "     +f\"\\n\\t1)We don't know the Standard Deviation or Population Mean.\" \n",
    "     +f\"\\n\\t2)We have {n} data points, and {n} < 30. This means we have a very small sample size\")\n",
    "\n",
    "print(f\"\\nSample Information\")\n",
    "print(f\"\\tSample Size: {sample_size}\")\n",
    "print(f\"\\tSample Mean: {sample_mean}\")\n",
    "\n",
    "\n",
    "print(f\"\\nProblem 1 :: interval: {interval}\")\n",
    "print(f\"The Number of points Corresponding to an Interval of {interval}:\\n\\t{conft1}\")\n",
    "\n",
    "interval = 0.90\n",
    "retvec = stats.sem(vector) * t.ppf((1 + interval)/2, df)\n",
    "\n",
    "conft2 = ((sample_mean - retvec), (sample_mean + retvec))\n",
    "\n",
    "print(f\"\\nProblem 2 :: interval: {interval}\")\n",
    "print(f\"The Number of points Corresponding to an Interval of {interval}:\\n\\t{conft2}\")\n",
    "\n",
    "confdelta = ((conft1[0]-conft2[0]),(conft1[1]-conft2[1]))\n",
    "print(f\"\\nComparison: -> difference btween The confidence intervals\")\n",
    "print(f\"\\t{confdelta}\")\n",
    "\n",
    "print(f\"\\nAnalysis:\")\n",
    "print(\"\\tUsing the Comparison value it is clear that as the confidence interval changinf from 0.95 to 0.9 has\")\n",
    "print(\"\\tdecreased the size of the interval by %0.3f on both sides. This means that both intervals are \"%(abs(confdelta[0])))\n",
    "print(\"\\tvery similar becuase the interval decreased by less than 4 point over all.\")"
   ]
  },
  {
   "cell_type": "markdown",
   "metadata": {},
   "source": [
    "# Q3 ::\n",
    "- look at the output of the block bellow for the answers \n",
    "- look for the tag ```Problem # ::``` in the Output not the Code For the answers"
   ]
  },
  {
   "cell_type": "code",
   "execution_count": 4,
   "metadata": {},
   "outputs": [
    {
     "name": "stdout",
     "output_type": "stream",
     "text": [
      "Problem 3 :: Reasoning:\n",
      "\tNow that the standard devation of 4.10316950661315 is known, it is more optimal to use a z-test\n",
      "\n",
      "Sample Information\n",
      "\tSample Size: 11\n",
      "\tSample Mean: 7.363636363636363\n",
      "\tStandard Deviation: 4.10316950661315\n",
      "\n",
      "Problem 3 :: interval: 0.95\n",
      "The Number of points Corresponding to an Interval of 0.95:\n",
      "\t(4.9388626965002045, 9.788410030772521)\n",
      "\n",
      "Problem 3 :: interval: 0.9\n",
      "The Number of points Corresponding to an Interval of 0.9:\n",
      "\t(-0.9860436314852805, 15.713316358758007)\n",
      "\n",
      "Problem 3 :: What is different or similar?\n",
      "Starting with the case of both the intervals found using a z-test:\n",
      "\tDecreasing the Interval Decreased the range of the lower and the upper bound\n",
      "t-test vs z-test:\n",
      "\tThe intervals found in both cases are similar. This however is only because the\n",
      "\tstandard deviation between both cases are very similar. The differences most likely stem\n",
      "\tfrom the fact that z-test assumes a normal distribution while the t-test does not, this\n",
      "\tis most likely why the 0.95 confidence interval is much thiner in this case\n"
     ]
    }
   ],
   "source": [
    "#use a z test not 2 test because std is known\n",
    "data = [3, -3, 3, 12, 15, -16, 17, 19, 23, -24, 32]\n",
    "n = len(data)\n",
    "vector = np.array(data)\n",
    "sample_size = vector.size\n",
    "sample_mean = np.mean(vector)\n",
    "interval = 0.95\n",
    "stdev = np.sqrt(16.836)\n",
    "\n",
    "confz1 = ((sample_mean + (stdev/np.sqrt(sample_size))*(norm.ppf((1-interval)/2))), (sample_mean - (stdev/np.sqrt(sample_size))*(norm.ppf((1-interval)/2))))\n",
    "\n",
    "print(f\"Problem 3 :: Reasoning:\\n\"\n",
    "     + f\"\\tNow that the standard devation of {stdev} is known, it is more optimal to use a z-test\\n\")\n",
    "\n",
    "print(f\"Sample Information\")\n",
    "print(f\"\\tSample Size: {sample_size}\")\n",
    "print(f\"\\tSample Mean: {sample_mean}\")\n",
    "print(f\"\\tStandard Deviation: {stdev}\")\n",
    "\n",
    "print(f\"\\nProblem 3 :: interval: {interval}\")\n",
    "print(f\"The Number of points Corresponding to an Interval of {interval}:\\n\\t{confz1}\")\n",
    "\n",
    "sample_size = vector.size\n",
    "sample_mean = np.mean(vector)\n",
    "interval = 0.90\n",
    "stdev = 16.836\n",
    "\n",
    "confz2 = ((sample_mean + (stdev/np.sqrt(sample_size))*(norm.ppf((1-interval)/2))), (sample_mean - (stdev/np.sqrt(sample_size))*(norm.ppf((1-interval)/2))))\n",
    "\n",
    "print(f\"\\nProblem 3 :: interval: {interval}\")\n",
    "print(f\"The Number of points Corresponding to an Interval of {interval}:\\n\\t{confz2}\")\n",
    "\n",
    "\n",
    "print(\"\\nProblem 3 :: What is different or similar?\")\n",
    "print(f\"Starting with the case of both the intervals found using a z-test:\")\n",
    "print(f\"\\tDecreasing the Interval Decreased the range of the lower and the upper bound\")\n",
    "print(f\"t-test vs z-test:\")\n",
    "print(f\"\\tThe intervals found in both cases are similar. This however is only because the\"+\n",
    "    f\"\\n\\tstandard deviation between both cases are very similar. The differences most likely stem\"+\n",
    "    f\"\\n\\tfrom the fact that z-test assumes a normal distribution while the t-test does not, this\"+\n",
    "    f\"\\n\\tis most likely why the 0.95 confidence interval is much thiner in this case\")\n"
   ]
  },
  {
   "cell_type": "markdown",
   "metadata": {},
   "source": [
    "# Q4 ::\n",
    "- look at the output of the block bellow for the answers\n",
    "- look for the tag Problem # :: in the Output not the Code For the answers"
   ]
  },
  {
   "cell_type": "code",
   "execution_count": 5,
   "metadata": {},
   "outputs": [
    {
     "name": "stdout",
     "output_type": "stream",
     "text": [
      "Sample Information\n",
      "\tSample Size: 11\n",
      "\tSample Mean: 7.363636363636363\n",
      "\tStandard Deviation: 16.836108382121605\n",
      "\n",
      "Problem 4 :: The confidence required to assume they win on avg: \n",
      "\t82.24752127627733%\n",
      "\n",
      "Problem 4 :: The points at this interval are: \n",
      "\t(3.89910326248355e-13, 14.727272727272336)\n"
     ]
    }
   ],
   "source": [
    "df = n - 1\n",
    "sample_size = np.size(vector)\n",
    "sample_stdev = np.std(vector, ddof = 1)\n",
    "sample_mean = np.mean(vector)\n",
    "print(f\"Sample Information\")\n",
    "print(f\"\\tSample Size: {sample_size}\")\n",
    "print(f\"\\tSample Mean: {sample_mean}\")\n",
    "print(f\"\\tStandard Deviation: {sample_stdev}\")\n",
    "\n",
    "vector = np.sort(vector)\n",
    "prob = t.cdf(vector, df)\n",
    "t_c = -sample_mean * -1/(sample_stdev/np.sqrt(sample_size))\n",
    "prob_tc = t.cdf(t_c, df)\n",
    "interval = abs(prob_tc * 2 * -1 + 1)\n",
    "retvec = stats.sem(vector) * t.ppf((1 + interval)/2, df)\n",
    "conf = ((sample_mean - retvec), (sample_mean + retvec))\n",
    "\n",
    "print(f\"\\nProblem 4 :: The confidence required to assume they win on avg: \\n\\t{interval * 100}%\")\n",
    "print(f\"\\nProblem 4 :: The points at this interval are: \\n\\t{conf}\")"
   ]
  }
 ],
 "metadata": {
  "kernelspec": {
   "display_name": "Python 3",
   "language": "python",
   "name": "python3"
  },
  "language_info": {
   "codemirror_mode": {
    "name": "ipython",
    "version": 3
   },
   "file_extension": ".py",
   "mimetype": "text/x-python",
   "name": "python",
   "nbconvert_exporter": "python",
   "pygments_lexer": "ipython3",
   "version": "3.7.2"
  }
 },
 "nbformat": 4,
 "nbformat_minor": 4
}
