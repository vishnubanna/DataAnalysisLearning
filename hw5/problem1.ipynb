{
 "cells": [
  {
   "cell_type": "code",
   "execution_count": 1,
   "metadata": {},
   "outputs": [],
   "source": [
    "import numpy as np \n",
    "import matplotlib.pyplot as plt\n",
    "import scipy.stats as stats\n",
    "from scipy.stats import norm\n",
    "import math"
   ]
  },
  {
   "cell_type": "code",
   "execution_count": 2,
   "metadata": {},
   "outputs": [],
   "source": [
    "# vector = np.loadtxt('eng1.txt')\n",
    "# print(vector[0:10])\n",
    "file = open('eng1.txt')\n",
    "datfile = file.readlines()\n",
    "file.close()\n",
    "\n",
    "vector = [float(x) for x in datfile]\n",
    "vector = np.asarray(vector)"
   ]
  },
  {
   "cell_type": "markdown",
   "metadata": {},
   "source": [
    "# Q1:: What are the null and alternative hypotheses, and what type of test can be used?\n",
    "\n",
    "- using a z-test \n",
    "- Null Hypothesis :: The Average Engagment of students who understand the material is 0.75\n",
    "- Alternate Hypothesis :: The Average Engagment of students who understand the material is not 0.75"
   ]
  },
  {
   "cell_type": "markdown",
   "metadata": {},
   "source": [
    "# Q2:: \n",
    "- the answer are in the code block output bellow"
   ]
  },
  {
   "cell_type": "code",
   "execution_count": 3,
   "metadata": {},
   "outputs": [
    {
     "name": "stdout",
     "output_type": "stream",
     "text": [
      "Sample Size :: 937\n",
      "Sample Mean :: 0.74303\n",
      "Sample Varience :: 0.00415\n",
      "\n",
      "Sample Z-score :: -1.67909\n",
      "Sample Probability :: 0.09313\n",
      "\n",
      "The Null Hypothesis can be rejected because the sample probability of 0.093 is less than or equal to the alpha value of 0.100\n",
      "\n",
      "The Null Hypothesis can not be rejected because the sample probability of 0.093 is greater than or equal to the alpha value of 0.050\n",
      "\n",
      "The Null Hypothesis can not be rejected because the sample probability of 0.093 is greater than or equal to the alpha value of 0.010\n"
     ]
    }
   ],
   "source": [
    "#required data \n",
    "\n",
    "#sample size \n",
    "mu = 0.75\n",
    "alphas = [0.1, 0.05, 0.01]\n",
    "sample_size = vector.size\n",
    "print(f\"Sample Size :: {sample_size}\")\n",
    "\n",
    "sample_mean = np.mean(vector)\n",
    "print(\"Sample Mean :: %0.5f\"%(sample_mean))\n",
    "\n",
    "sample_stdev = np.std(vector, ddof = 0)\n",
    "sample_varience = sample_stdev/np.sqrt(sample_size)\n",
    "print(\"Sample Varience :: %0.5f\"%(sample_varience))\n",
    "\n",
    "zscore = (sample_mean - mu)/sample_varience\n",
    "print(\"\\nSample Z-score :: %0.5f\"%(zscore))\n",
    "\n",
    "sample_prob = 2 * norm.cdf(-np.abs(zscore))\n",
    "print(\"Sample Probability :: %0.5f\"%(sample_prob))\n",
    "\n",
    "for alpha in alphas:\n",
    "    if sample_prob <= alpha:\n",
    "        print(\"\\nThe Null Hypothesis can be rejected because the sample probability of %0.3f is less than or equal to the alpha value of %0.3f\"%(sample_prob, alpha))\n",
    "    else:\n",
    "        print(\"\\nThe Null Hypothesis can not be rejected because the sample probability of %0.3f is greater than or equal to the alpha value of %0.3f\"%(sample_prob, alpha))\n"
   ]
  },
  {
   "cell_type": "markdown",
   "metadata": {},
   "source": [
    "# Q3::\n",
    "- the answer are in the code block output bellow"
   ]
  },
  {
   "cell_type": "code",
   "execution_count": 4,
   "metadata": {},
   "outputs": [
    {
     "name": "stdout",
     "output_type": "stream",
     "text": [
      "associated zval for 0.05 :: -1.9599640\n",
      "The largest standard error to get a z-score of 2 (a = 0.05):: 0.0035560\n",
      "The smallest sample size needed to get a z-score of 2 (a = 0.05) :: 1276\n"
     ]
    }
   ],
   "source": [
    "#lowest val\n",
    "devs = 2 #0.05\n",
    "zval = norm.ppf(0.05/2)\n",
    "closestval = (sample_mean - mu)/zval\n",
    "closestsize = np.square(sample_stdev/closestval)\n",
    "\n",
    "print(\"associated zval for 0.05 :: %0.7f\"%(zval))\n",
    "print(\"The largest standard error to get a z-score of 2 (a = 0.05):: %0.7f\"%(closestval))\n",
    "print(\"The smallest sample size needed to get a z-score of 2 (a = 0.05) :: %d\"%(closestsize))"
   ]
  },
  {
   "cell_type": "markdown",
   "metadata": {},
   "source": [
    "# Q4 :: What are the null and alternative hypotheses, and what type of test can be used?\n",
    "\n",
    "- using a z-test \n",
    "\n",
    "- Null Hypothesis :: The Average Engagment of students who understand and those that don't understand the material is not the same  mu1 != mu2\n",
    "\n",
    "- Alternate Hypothesis :: The Average Engagment of students who understand and those that don't understand the material is the same mu1 == mu2"
   ]
  },
  {
   "cell_type": "code",
   "execution_count": 5,
   "metadata": {},
   "outputs": [],
   "source": [
    "file = open('eng0.txt')\n",
    "datfile = file.readlines()\n",
    "file.close()\n",
    "sample2_size = len(datfile)\n",
    "\n",
    "vector2 = [float(x) for x in datfile]"
   ]
  },
  {
   "cell_type": "code",
   "execution_count": 6,
   "metadata": {},
   "outputs": [],
   "source": [
    "vector2 = np.asarray(vector2)\n",
    "mu2 = 0.75\n",
    "alphas2 = [0.1, 0.05, 0.01]\n",
    "\n",
    "#print(f\"Sample Size :: {sample2_size}\")\n",
    "\n",
    "sample2_mean = np.mean(vector2)\n",
    "#print(\"Sample Mean :: %0.3f\"%(sample2_mean))\n",
    "\n",
    "sample2_stdev = np.std(vector2, ddof = 1)\n",
    "sample2_varience = sample2_stdev/np.sqrt(sample2_size)\n",
    "#print(\"Sample Varience :: %0.7f\"%(sample2_varience))"
   ]
  },
  {
   "cell_type": "markdown",
   "metadata": {},
   "source": [
    "# Q5 :: \n",
    "- the answers can be found in the output of the code block below"
   ]
  },
  {
   "cell_type": "code",
   "execution_count": 7,
   "metadata": {},
   "outputs": [
    {
     "name": "stdout",
     "output_type": "stream",
     "text": [
      "Sample Varience :: 0.007064\n",
      "2 Sample Mu :: 0.00000\n",
      "2 Sample Mean :: 0.10308\n",
      "2 Standard Deviation :: 0.00706\n",
      "\n",
      "2 Sample Z-score :: 14.59147\n",
      "2 Sample Prob :: 0.00000\n",
      "\n",
      "The Null Hypothesis can be rejected because the sample probability of 0.0000000 is less than or equal to the alpha value of 0.100\n",
      "\n",
      "The Null Hypothesis can be rejected because the sample probability of 0.0000000 is less than or equal to the alpha value of 0.050\n",
      "\n",
      "The Null Hypothesis can be rejected because the sample probability of 0.0000000 is less than or equal to the alpha value of 0.010\n"
     ]
    }
   ],
   "source": [
    "# 2 sample \n",
    "double_mu = mu - mu2\n",
    "double_mean = sample_mean - sample2_mean\n",
    "print(\"Sample Varience :: %f\"%(np.sqrt(np.square(sample_varience) + np.square(sample2_varience))))\n",
    "\n",
    "double_stdev = np.sqrt(np.square(sample_varience) + np.square(sample2_varience))\n",
    "double_zscore = double_mean/double_stdev\n",
    "double_prob = 2 * norm.cdf(-np.abs(double_zscore))\n",
    "\n",
    "print(\"2 Sample Mu :: %0.5f\"%(double_mu))\n",
    "print(\"2 Sample Mean :: %0.5f\"%(double_mean))\n",
    "print(\"2 Standard Deviation :: %0.5f\"%(double_stdev))\n",
    "\n",
    "print(\"\\n2 Sample Z-score :: %0.5f\"%(double_zscore))\n",
    "print(\"2 Sample Prob :: %0.5f\"%(double_prob))\n",
    "\n",
    "for alpha in alphas:\n",
    "    if double_prob <= alpha:\n",
    "        print(\"\\nThe Null Hypothesis can be rejected because the sample probability of %0.7f is less than or equal to the alpha value of %0.3f\"%(double_prob, alpha))\n",
    "    else:\n",
    "        print(\"\\nThe Null Hypothesis can not be rejected because the sample probability of %0.7f is greater than or equal to the alpha value of %0.3f\"%(double_prob, alpha))\n"
   ]
  }
 ],
 "metadata": {
  "file_extension": ".py",
  "kernelspec": {
   "display_name": "Python 3",
   "language": "python",
   "name": "python3"
  },
  "language_info": {
   "codemirror_mode": {
    "name": "ipython",
    "version": 3
   },
   "file_extension": ".py",
   "mimetype": "text/x-python",
   "name": "python",
   "nbconvert_exporter": "python",
   "pygments_lexer": "ipython3",
   "version": "3.7.2"
  },
  "mimetype": "text/x-python",
  "name": "python",
  "npconvert_exporter": "python",
  "pygments_lexer": "ipython3",
  "version": 3
 },
 "nbformat": 4,
 "nbformat_minor": 2
}
